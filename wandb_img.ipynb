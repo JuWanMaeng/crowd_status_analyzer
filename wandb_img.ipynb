{
 "cells": [
  {
   "cell_type": "code",
   "execution_count": 1,
   "metadata": {},
   "outputs": [],
   "source": [
    "%load_ext autoreload\n",
    "%autoreload 2"
   ]
  },
  {
   "cell_type": "code",
   "execution_count": 1,
   "metadata": {},
   "outputs": [],
   "source": [
    "import cv2\n",
    "import wandb\n",
    "import numpy as np\n",
    "import time\n",
    "import torch\n",
    "from MTL.model import resnet,MTL_model\n",
    "import glob\n",
    "from torchvision.models import  resnet18\n",
    "import torch.nn as nn\n",
    "from data.datasets import EmotionDataset,GenderDataset,AgeDataset\n",
    "from torch.utils.data import DataLoader\n",
    "import random"
   ]
  },
  {
   "cell_type": "code",
   "execution_count": 2,
   "metadata": {},
   "outputs": [],
   "source": [
    "emo_label={0:'sad', 1:'happy', 2:'angry', 3:'disgust', 4:'surprise', 5:'fear', 6:'neutral'}\n",
    "gender_label={0:'man',1:'woman'}\n",
    "age_label={0:'youth', 1: 'student', 2: 'adult', 3:'elder'}\n",
    "\n",
    "test_gender_dataset=GenderDataset(phase='test')\n",
    "test_emo_dataset=EmotionDataset(phase='test')\n",
    "test_age_dataset=AgeDataset(phase='test')\n",
    "\n",
    "test_gender_loader=DataLoader(test_gender_dataset,batch_size=16,shuffle=True,num_workers=1)\n",
    "test_emo_loader=DataLoader(test_emo_dataset,batch_size=16,shuffle=True,num_workers=1)\n",
    "test_age_loader=DataLoader(test_age_dataset,batch_size=16,shuffle=True,num_workers=1)\n",
    "device='cuda:3' if torch.cuda.is_available() else 'cpu'"
   ]
  },
  {
   "cell_type": "code",
   "execution_count": 3,
   "metadata": {},
   "outputs": [
    {
     "data": {
      "text/plain": [
       "AgeModel(\n",
       "  (feature_extractor): ResNet(\n",
       "    (conv1): Conv2d(3, 64, kernel_size=(7, 7), stride=(2, 2), padding=(3, 3), bias=False)\n",
       "    (bn1): BatchNorm2d(64, eps=1e-05, momentum=0.1, affine=True, track_running_stats=True)\n",
       "    (relu): ReLU(inplace=True)\n",
       "    (maxpool): MaxPool2d(kernel_size=3, stride=2, padding=1, dilation=1, ceil_mode=False)\n",
       "    (layer1): Sequential(\n",
       "      (0): BasicBlock(\n",
       "        (conv1): Conv2d(64, 64, kernel_size=(3, 3), stride=(1, 1), padding=(1, 1), bias=False)\n",
       "        (bn1): BatchNorm2d(64, eps=1e-05, momentum=0.1, affine=True, track_running_stats=True)\n",
       "        (relu): ReLU(inplace=True)\n",
       "        (conv2): Conv2d(64, 64, kernel_size=(3, 3), stride=(1, 1), padding=(1, 1), bias=False)\n",
       "        (bn2): BatchNorm2d(64, eps=1e-05, momentum=0.1, affine=True, track_running_stats=True)\n",
       "      )\n",
       "      (1): BasicBlock(\n",
       "        (conv1): Conv2d(64, 64, kernel_size=(3, 3), stride=(1, 1), padding=(1, 1), bias=False)\n",
       "        (bn1): BatchNorm2d(64, eps=1e-05, momentum=0.1, affine=True, track_running_stats=True)\n",
       "        (relu): ReLU(inplace=True)\n",
       "        (conv2): Conv2d(64, 64, kernel_size=(3, 3), stride=(1, 1), padding=(1, 1), bias=False)\n",
       "        (bn2): BatchNorm2d(64, eps=1e-05, momentum=0.1, affine=True, track_running_stats=True)\n",
       "      )\n",
       "    )\n",
       "    (layer2): Sequential(\n",
       "      (0): BasicBlock(\n",
       "        (conv1): Conv2d(64, 128, kernel_size=(3, 3), stride=(2, 2), padding=(1, 1), bias=False)\n",
       "        (bn1): BatchNorm2d(128, eps=1e-05, momentum=0.1, affine=True, track_running_stats=True)\n",
       "        (relu): ReLU(inplace=True)\n",
       "        (conv2): Conv2d(128, 128, kernel_size=(3, 3), stride=(1, 1), padding=(1, 1), bias=False)\n",
       "        (bn2): BatchNorm2d(128, eps=1e-05, momentum=0.1, affine=True, track_running_stats=True)\n",
       "        (downsample): Sequential(\n",
       "          (0): Conv2d(64, 128, kernel_size=(1, 1), stride=(2, 2), bias=False)\n",
       "          (1): BatchNorm2d(128, eps=1e-05, momentum=0.1, affine=True, track_running_stats=True)\n",
       "        )\n",
       "      )\n",
       "      (1): BasicBlock(\n",
       "        (conv1): Conv2d(128, 128, kernel_size=(3, 3), stride=(1, 1), padding=(1, 1), bias=False)\n",
       "        (bn1): BatchNorm2d(128, eps=1e-05, momentum=0.1, affine=True, track_running_stats=True)\n",
       "        (relu): ReLU(inplace=True)\n",
       "        (conv2): Conv2d(128, 128, kernel_size=(3, 3), stride=(1, 1), padding=(1, 1), bias=False)\n",
       "        (bn2): BatchNorm2d(128, eps=1e-05, momentum=0.1, affine=True, track_running_stats=True)\n",
       "      )\n",
       "    )\n",
       "    (layer3): Sequential(\n",
       "      (0): BasicBlock(\n",
       "        (conv1): Conv2d(128, 256, kernel_size=(3, 3), stride=(2, 2), padding=(1, 1), bias=False)\n",
       "        (bn1): BatchNorm2d(256, eps=1e-05, momentum=0.1, affine=True, track_running_stats=True)\n",
       "        (relu): ReLU(inplace=True)\n",
       "        (conv2): Conv2d(256, 256, kernel_size=(3, 3), stride=(1, 1), padding=(1, 1), bias=False)\n",
       "        (bn2): BatchNorm2d(256, eps=1e-05, momentum=0.1, affine=True, track_running_stats=True)\n",
       "        (downsample): Sequential(\n",
       "          (0): Conv2d(128, 256, kernel_size=(1, 1), stride=(2, 2), bias=False)\n",
       "          (1): BatchNorm2d(256, eps=1e-05, momentum=0.1, affine=True, track_running_stats=True)\n",
       "        )\n",
       "      )\n",
       "      (1): BasicBlock(\n",
       "        (conv1): Conv2d(256, 256, kernel_size=(3, 3), stride=(1, 1), padding=(1, 1), bias=False)\n",
       "        (bn1): BatchNorm2d(256, eps=1e-05, momentum=0.1, affine=True, track_running_stats=True)\n",
       "        (relu): ReLU(inplace=True)\n",
       "        (conv2): Conv2d(256, 256, kernel_size=(3, 3), stride=(1, 1), padding=(1, 1), bias=False)\n",
       "        (bn2): BatchNorm2d(256, eps=1e-05, momentum=0.1, affine=True, track_running_stats=True)\n",
       "      )\n",
       "    )\n",
       "    (layer4): Sequential(\n",
       "      (0): BasicBlock(\n",
       "        (conv1): Conv2d(256, 512, kernel_size=(3, 3), stride=(2, 2), padding=(1, 1), bias=False)\n",
       "        (bn1): BatchNorm2d(512, eps=1e-05, momentum=0.1, affine=True, track_running_stats=True)\n",
       "        (relu): ReLU(inplace=True)\n",
       "        (conv2): Conv2d(512, 512, kernel_size=(3, 3), stride=(1, 1), padding=(1, 1), bias=False)\n",
       "        (bn2): BatchNorm2d(512, eps=1e-05, momentum=0.1, affine=True, track_running_stats=True)\n",
       "        (downsample): Sequential(\n",
       "          (0): Conv2d(256, 512, kernel_size=(1, 1), stride=(2, 2), bias=False)\n",
       "          (1): BatchNorm2d(512, eps=1e-05, momentum=0.1, affine=True, track_running_stats=True)\n",
       "        )\n",
       "      )\n",
       "      (1): BasicBlock(\n",
       "        (conv1): Conv2d(512, 512, kernel_size=(3, 3), stride=(1, 1), padding=(1, 1), bias=False)\n",
       "        (bn1): BatchNorm2d(512, eps=1e-05, momentum=0.1, affine=True, track_running_stats=True)\n",
       "        (relu): ReLU(inplace=True)\n",
       "        (conv2): Conv2d(512, 512, kernel_size=(3, 3), stride=(1, 1), padding=(1, 1), bias=False)\n",
       "        (bn2): BatchNorm2d(512, eps=1e-05, momentum=0.1, affine=True, track_running_stats=True)\n",
       "      )\n",
       "    )\n",
       "    (avgpool): AdaptiveAvgPool2d(output_size=(1, 1))\n",
       "    (fc): Linear(in_features=512, out_features=1000, bias=True)\n",
       "  )\n",
       "  (fc_age): Sequential(\n",
       "    (0): Linear(in_features=1000, out_features=512, bias=True)\n",
       "    (1): ReLU()\n",
       "    (2): Linear(in_features=512, out_features=4, bias=True)\n",
       "  )\n",
       ")"
      ]
     },
     "execution_count": 3,
     "metadata": {},
     "output_type": "execute_result"
    }
   ],
   "source": [
    "gender_model=resnet18()\n",
    "gender_model.fc=nn.Linear(512,2)\n",
    "gender_wt=torch.load('weight/classification/UTK_gender_best_model.pt')\n",
    "\n",
    "emotion_model=resnet.EmotionModel(phase='test')\n",
    "emotion_wt=torch.load('weight/classification/emotion128_resnet18.pt')\n",
    "\n",
    "age_model=resnet.AgeModel(phase='test')\n",
    "age_wt=torch.load('weight/classification/age128_4class_merge_resnet18.pt')\n",
    "\n",
    "# MTL_model=MTL_model.MultiTaskModel(phase='test')\n",
    "# MTL_wt=torch.load('weight/MTL/resnet18_MTL_212.pt')\n",
    "\n",
    "gender_model.to(device)\n",
    "emotion_model.to(device)\n",
    "age_model.to(device)\n",
    "# MTL_model.to(device)\n",
    "\n",
    "\n",
    "emotion_model.load_state_dict(emotion_wt)\n",
    "gender_model.load_state_dict(gender_wt)\n",
    "age_model.load_state_dict(age_wt)\n",
    "# MTL_model.load_state_dict(MTL_wt)\n",
    "\n",
    "emotion_model.eval()\n",
    "gender_model.eval()\n",
    "age_model.eval()\n",
    "# MTL_model.eval()\n"
   ]
  },
  {
   "cell_type": "code",
   "execution_count": 3,
   "metadata": {},
   "outputs": [
    {
     "name": "stdout",
     "output_type": "stream",
     "text": [
      "not pretrained model loaded\n"
     ]
    },
    {
     "ename": "NameError",
     "evalue": "name 'device' is not defined",
     "output_type": "error",
     "traceback": [
      "\u001b[0;31m---------------------------------------------------------------------------\u001b[0m",
      "\u001b[0;31mNameError\u001b[0m                                 Traceback (most recent call last)",
      "Cell \u001b[0;32mIn[3], line 3\u001b[0m\n\u001b[1;32m      1\u001b[0m MTL_model\u001b[39m=\u001b[39mMTL_model\u001b[39m.\u001b[39mMultiTaskModel(phase\u001b[39m=\u001b[39m\u001b[39m'\u001b[39m\u001b[39mtest\u001b[39m\u001b[39m'\u001b[39m)\n\u001b[1;32m      2\u001b[0m MTL_wt\u001b[39m=\u001b[39mtorch\u001b[39m.\u001b[39mload(\u001b[39m'\u001b[39m\u001b[39mweight/MTL/resnet18_MTL_212.pt\u001b[39m\u001b[39m'\u001b[39m)\n\u001b[0;32m----> 3\u001b[0m MTL_model\u001b[39m.\u001b[39mto(device)\n\u001b[1;32m      4\u001b[0m MTL_model\u001b[39m.\u001b[39mload_state_dict(MTL_wt)\n\u001b[1;32m      5\u001b[0m MTL_model\u001b[39m.\u001b[39meval()\n",
      "\u001b[0;31mNameError\u001b[0m: name 'device' is not defined"
     ]
    }
   ],
   "source": [
    "MTL_model=MTL_model.MultiTaskModel(phase='test')\n",
    "MTL_wt=torch.load('weight/MTL/resnet18_MTL_212.pt')\n",
    "MTL_model.to(device)\n",
    "MTL_model.load_state_dict(MTL_wt)\n",
    "MTL_model.eval()\n"
   ]
  },
  {
   "cell_type": "code",
   "execution_count": 4,
   "metadata": {},
   "outputs": [],
   "source": [
    "length =30\n",
    "unique_list = []\n",
    "while len(unique_list) < length:\n",
    "    num = random.randint(1, 9000)\n",
    "    if num not in unique_list:\n",
    "        unique_list.append(num)"
   ]
  },
  {
   "attachments": {},
   "cell_type": "markdown",
   "metadata": {},
   "source": [
    "## emotion "
   ]
  },
  {
   "cell_type": "code",
   "execution_count": 5,
   "metadata": {},
   "outputs": [
    {
     "name": "stderr",
     "output_type": "stream",
     "text": [
      "Failed to detect the name of this notebook, you can set it manually with the WANDB_NOTEBOOK_NAME environment variable to enable code saving.\n",
      "\u001b[34m\u001b[1mwandb\u001b[0m: Currently logged in as: \u001b[33maodwndhks\u001b[0m (\u001b[33mkookmin_ai\u001b[0m). Use \u001b[1m`wandb login --relogin`\u001b[0m to force relogin\n"
     ]
    },
    {
     "data": {
      "text/html": [
       "wandb version 0.15.2 is available!  To upgrade, please run:\n",
       " $ pip install wandb --upgrade"
      ],
      "text/plain": [
       "<IPython.core.display.HTML object>"
      ]
     },
     "metadata": {},
     "output_type": "display_data"
    },
    {
     "data": {
      "text/html": [
       "Tracking run with wandb version 0.15.0"
      ],
      "text/plain": [
       "<IPython.core.display.HTML object>"
      ]
     },
     "metadata": {},
     "output_type": "display_data"
    },
    {
     "data": {
      "text/html": [
       "Run data is saved locally in <code>/home/joowan/Desktop/face_pr/wandb/run-20230508_160416-tut2ock2</code>"
      ],
      "text/plain": [
       "<IPython.core.display.HTML object>"
      ]
     },
     "metadata": {},
     "output_type": "display_data"
    },
    {
     "data": {
      "text/html": [
       "Syncing run <strong><a href='https://wandb.ai/kookmin_ai/single%20tasks%20result/runs/tut2ock2' target=\"_blank\">logical-shadow-24</a></strong> to <a href='https://wandb.ai/kookmin_ai/single%20tasks%20result' target=\"_blank\">Weights & Biases</a> (<a href='https://wandb.me/run' target=\"_blank\">docs</a>)<br/>"
      ],
      "text/plain": [
       "<IPython.core.display.HTML object>"
      ]
     },
     "metadata": {},
     "output_type": "display_data"
    },
    {
     "data": {
      "text/html": [
       " View project at <a href='https://wandb.ai/kookmin_ai/single%20tasks%20result' target=\"_blank\">https://wandb.ai/kookmin_ai/single%20tasks%20result</a>"
      ],
      "text/plain": [
       "<IPython.core.display.HTML object>"
      ]
     },
     "metadata": {},
     "output_type": "display_data"
    },
    {
     "data": {
      "text/html": [
       " View run at <a href='https://wandb.ai/kookmin_ai/single%20tasks%20result/runs/tut2ock2' target=\"_blank\">https://wandb.ai/kookmin_ai/single%20tasks%20result/runs/tut2ock2</a>"
      ],
      "text/plain": [
       "<IPython.core.display.HTML object>"
      ]
     },
     "metadata": {},
     "output_type": "display_data"
    }
   ],
   "source": [
    "wandb.init(project='single tasks result',entity='kookmin_ai')\n",
    "wandb.run.name=(f'emotion_test')\n",
    "\n",
    "example_images=[]\n",
    "for i in unique_list:\n",
    "    with torch.no_grad():\n",
    "\n",
    "        emo_img=test_emo_dataset[i][0]\n",
    "        emo_answer=emo_label[test_emo_dataset[i][1]]\n",
    "        emo_img=emo_img.to(device)\n",
    "        emo_img=emo_img.unsqueeze(0)\n",
    "        \n",
    "        start=time.time()\n",
    "        emo_output=emotion_model(emo_img)\n",
    "        infer_time=time.time()-start\n",
    "        \n",
    "        emo_pred=emo_output.argmax(1,keepdim=True)\n",
    "        emotion=emo_label[emo_pred.item()]\n",
    "    example_images.append(wandb.Image(\n",
    "                    emo_img, caption=f'Pred:{emotion},  Answer:{emo_answer}'))\n",
    "wandb.log({\"Image\": example_images})"
   ]
  },
  {
   "cell_type": "code",
   "execution_count": 6,
   "metadata": {},
   "outputs": [
    {
     "data": {
      "text/html": [
       "Finishing last run (ID:tut2ock2) before initializing another..."
      ],
      "text/plain": [
       "<IPython.core.display.HTML object>"
      ]
     },
     "metadata": {},
     "output_type": "display_data"
    },
    {
     "data": {
      "text/html": [
       "Waiting for W&B process to finish... <strong style=\"color:green\">(success).</strong>"
      ],
      "text/plain": [
       "<IPython.core.display.HTML object>"
      ]
     },
     "metadata": {},
     "output_type": "display_data"
    },
    {
     "data": {
      "text/html": [
       " View run <strong style=\"color:#cdcd00\">logical-shadow-24</strong> at: <a href='https://wandb.ai/kookmin_ai/single%20tasks%20result/runs/tut2ock2' target=\"_blank\">https://wandb.ai/kookmin_ai/single%20tasks%20result/runs/tut2ock2</a><br/>Synced 5 W&B file(s), 30 media file(s), 0 artifact file(s) and 0 other file(s)"
      ],
      "text/plain": [
       "<IPython.core.display.HTML object>"
      ]
     },
     "metadata": {},
     "output_type": "display_data"
    },
    {
     "data": {
      "text/html": [
       "Find logs at: <code>./wandb/run-20230508_160416-tut2ock2/logs</code>"
      ],
      "text/plain": [
       "<IPython.core.display.HTML object>"
      ]
     },
     "metadata": {},
     "output_type": "display_data"
    },
    {
     "data": {
      "text/html": [
       "Successfully finished last run (ID:tut2ock2). Initializing new run:<br/>"
      ],
      "text/plain": [
       "<IPython.core.display.HTML object>"
      ]
     },
     "metadata": {},
     "output_type": "display_data"
    },
    {
     "data": {
      "text/html": [
       "wandb version 0.15.2 is available!  To upgrade, please run:\n",
       " $ pip install wandb --upgrade"
      ],
      "text/plain": [
       "<IPython.core.display.HTML object>"
      ]
     },
     "metadata": {},
     "output_type": "display_data"
    },
    {
     "data": {
      "text/html": [
       "Tracking run with wandb version 0.15.0"
      ],
      "text/plain": [
       "<IPython.core.display.HTML object>"
      ]
     },
     "metadata": {},
     "output_type": "display_data"
    },
    {
     "data": {
      "text/html": [
       "Run data is saved locally in <code>/home/joowan/Desktop/face_pr/wandb/run-20230508_160421-n79j6y0u</code>"
      ],
      "text/plain": [
       "<IPython.core.display.HTML object>"
      ]
     },
     "metadata": {},
     "output_type": "display_data"
    },
    {
     "data": {
      "text/html": [
       "Syncing run <strong><a href='https://wandb.ai/kookmin_ai/single%20tasks%20result/runs/n79j6y0u' target=\"_blank\">stoic-sun-25</a></strong> to <a href='https://wandb.ai/kookmin_ai/single%20tasks%20result' target=\"_blank\">Weights & Biases</a> (<a href='https://wandb.me/run' target=\"_blank\">docs</a>)<br/>"
      ],
      "text/plain": [
       "<IPython.core.display.HTML object>"
      ]
     },
     "metadata": {},
     "output_type": "display_data"
    },
    {
     "data": {
      "text/html": [
       " View project at <a href='https://wandb.ai/kookmin_ai/single%20tasks%20result' target=\"_blank\">https://wandb.ai/kookmin_ai/single%20tasks%20result</a>"
      ],
      "text/plain": [
       "<IPython.core.display.HTML object>"
      ]
     },
     "metadata": {},
     "output_type": "display_data"
    },
    {
     "data": {
      "text/html": [
       " View run at <a href='https://wandb.ai/kookmin_ai/single%20tasks%20result/runs/n79j6y0u' target=\"_blank\">https://wandb.ai/kookmin_ai/single%20tasks%20result/runs/n79j6y0u</a>"
      ],
      "text/plain": [
       "<IPython.core.display.HTML object>"
      ]
     },
     "metadata": {},
     "output_type": "display_data"
    }
   ],
   "source": [
    "wandb.init(project='single tasks result',entity='kookmin_ai')\n",
    "wandb.run.name=(f'age_test')\n",
    "\n",
    "example_images=[]\n",
    "for i in unique_list:\n",
    "    with torch.no_grad():\n",
    "\n",
    "        age_img=test_age_dataset[i][0]\n",
    "        age_answer=age_label[test_age_dataset[i][1]]\n",
    "        age_img=age_img.to(device)\n",
    "        age_img=age_img.unsqueeze(0)\n",
    "        \n",
    "        start=time.time()\n",
    "        age_output=age_model(age_img)\n",
    "        infer_time=time.time()-start\n",
    "        \n",
    "        age_pred=age_output.argmax(1,keepdim=True)\n",
    "        age=age_label[age_pred.item()]\n",
    "    example_images.append(wandb.Image(\n",
    "                    age_img, caption=f'Pred:{age},  Answer:{age_answer}'))\n",
    "wandb.log({\"Image\": example_images})"
   ]
  },
  {
   "cell_type": "code",
   "execution_count": 7,
   "metadata": {},
   "outputs": [
    {
     "data": {
      "text/html": [
       "Finishing last run (ID:n79j6y0u) before initializing another..."
      ],
      "text/plain": [
       "<IPython.core.display.HTML object>"
      ]
     },
     "metadata": {},
     "output_type": "display_data"
    },
    {
     "data": {
      "text/html": [
       "Waiting for W&B process to finish... <strong style=\"color:green\">(success).</strong>"
      ],
      "text/plain": [
       "<IPython.core.display.HTML object>"
      ]
     },
     "metadata": {},
     "output_type": "display_data"
    },
    {
     "data": {
      "text/html": [
       " View run <strong style=\"color:#cdcd00\">stoic-sun-25</strong> at: <a href='https://wandb.ai/kookmin_ai/single%20tasks%20result/runs/n79j6y0u' target=\"_blank\">https://wandb.ai/kookmin_ai/single%20tasks%20result/runs/n79j6y0u</a><br/>Synced 5 W&B file(s), 30 media file(s), 0 artifact file(s) and 0 other file(s)"
      ],
      "text/plain": [
       "<IPython.core.display.HTML object>"
      ]
     },
     "metadata": {},
     "output_type": "display_data"
    },
    {
     "data": {
      "text/html": [
       "Find logs at: <code>./wandb/run-20230508_160421-n79j6y0u/logs</code>"
      ],
      "text/plain": [
       "<IPython.core.display.HTML object>"
      ]
     },
     "metadata": {},
     "output_type": "display_data"
    },
    {
     "data": {
      "text/html": [
       "Successfully finished last run (ID:n79j6y0u). Initializing new run:<br/>"
      ],
      "text/plain": [
       "<IPython.core.display.HTML object>"
      ]
     },
     "metadata": {},
     "output_type": "display_data"
    },
    {
     "data": {
      "text/html": [
       "wandb version 0.15.2 is available!  To upgrade, please run:\n",
       " $ pip install wandb --upgrade"
      ],
      "text/plain": [
       "<IPython.core.display.HTML object>"
      ]
     },
     "metadata": {},
     "output_type": "display_data"
    },
    {
     "data": {
      "text/html": [
       "Tracking run with wandb version 0.15.0"
      ],
      "text/plain": [
       "<IPython.core.display.HTML object>"
      ]
     },
     "metadata": {},
     "output_type": "display_data"
    },
    {
     "data": {
      "text/html": [
       "Run data is saved locally in <code>/home/joowan/Desktop/face_pr/wandb/run-20230508_160430-s2s998e3</code>"
      ],
      "text/plain": [
       "<IPython.core.display.HTML object>"
      ]
     },
     "metadata": {},
     "output_type": "display_data"
    },
    {
     "data": {
      "text/html": [
       "Syncing run <strong><a href='https://wandb.ai/kookmin_ai/single%20tasks%20result/runs/s2s998e3' target=\"_blank\">swept-violet-26</a></strong> to <a href='https://wandb.ai/kookmin_ai/single%20tasks%20result' target=\"_blank\">Weights & Biases</a> (<a href='https://wandb.me/run' target=\"_blank\">docs</a>)<br/>"
      ],
      "text/plain": [
       "<IPython.core.display.HTML object>"
      ]
     },
     "metadata": {},
     "output_type": "display_data"
    },
    {
     "data": {
      "text/html": [
       " View project at <a href='https://wandb.ai/kookmin_ai/single%20tasks%20result' target=\"_blank\">https://wandb.ai/kookmin_ai/single%20tasks%20result</a>"
      ],
      "text/plain": [
       "<IPython.core.display.HTML object>"
      ]
     },
     "metadata": {},
     "output_type": "display_data"
    },
    {
     "data": {
      "text/html": [
       " View run at <a href='https://wandb.ai/kookmin_ai/single%20tasks%20result/runs/s2s998e3' target=\"_blank\">https://wandb.ai/kookmin_ai/single%20tasks%20result/runs/s2s998e3</a>"
      ],
      "text/plain": [
       "<IPython.core.display.HTML object>"
      ]
     },
     "metadata": {},
     "output_type": "display_data"
    }
   ],
   "source": [
    "wandb.init(project='single tasks result',entity='kookmin_ai')\n",
    "wandb.run.name=(f'gender_test')\n",
    "\n",
    "example_images=[]\n",
    "for i in unique_list:\n",
    "    with torch.no_grad():\n",
    "\n",
    "        gender_img=test_gender_dataset[i][0]\n",
    "        gender_answer=gender_label[test_gender_dataset[i][1]]\n",
    "        gender_img=gender_img.to(device)\n",
    "        gender_img=gender_img.unsqueeze(0)\n",
    "        \n",
    "        start=time.time()\n",
    "        gender_output=gender_model(gender_img)\n",
    "        infer_time=time.time()-start\n",
    "        \n",
    "        gender_pred=gender_output.argmax(1,keepdim=True)\n",
    "        gender=gender_label[gender_pred.item()]\n",
    "    example_images.append(wandb.Image(\n",
    "                    gender_img, caption=f'Pred:{gender},  Answer:{gender_answer}'))\n",
    "wandb.log({\"Image\": example_images})"
   ]
  },
  {
   "attachments": {},
   "cell_type": "markdown",
   "metadata": {},
   "source": [
    "## multi task"
   ]
  },
  {
   "cell_type": "code",
   "execution_count": 8,
   "metadata": {},
   "outputs": [
    {
     "data": {
      "text/html": [
       "Finishing last run (ID:s2s998e3) before initializing another..."
      ],
      "text/plain": [
       "<IPython.core.display.HTML object>"
      ]
     },
     "metadata": {},
     "output_type": "display_data"
    },
    {
     "data": {
      "text/html": [
       "Waiting for W&B process to finish... <strong style=\"color:green\">(success).</strong>"
      ],
      "text/plain": [
       "<IPython.core.display.HTML object>"
      ]
     },
     "metadata": {},
     "output_type": "display_data"
    },
    {
     "data": {
      "text/html": [
       " View run <strong style=\"color:#cdcd00\">swept-violet-26</strong> at: <a href='https://wandb.ai/kookmin_ai/single%20tasks%20result/runs/s2s998e3' target=\"_blank\">https://wandb.ai/kookmin_ai/single%20tasks%20result/runs/s2s998e3</a><br/>Synced 5 W&B file(s), 30 media file(s), 0 artifact file(s) and 0 other file(s)"
      ],
      "text/plain": [
       "<IPython.core.display.HTML object>"
      ]
     },
     "metadata": {},
     "output_type": "display_data"
    },
    {
     "data": {
      "text/html": [
       "Find logs at: <code>./wandb/run-20230508_160430-s2s998e3/logs</code>"
      ],
      "text/plain": [
       "<IPython.core.display.HTML object>"
      ]
     },
     "metadata": {},
     "output_type": "display_data"
    },
    {
     "data": {
      "text/html": [
       "Successfully finished last run (ID:s2s998e3). Initializing new run:<br/>"
      ],
      "text/plain": [
       "<IPython.core.display.HTML object>"
      ]
     },
     "metadata": {},
     "output_type": "display_data"
    },
    {
     "data": {
      "text/html": [
       "wandb version 0.15.2 is available!  To upgrade, please run:\n",
       " $ pip install wandb --upgrade"
      ],
      "text/plain": [
       "<IPython.core.display.HTML object>"
      ]
     },
     "metadata": {},
     "output_type": "display_data"
    },
    {
     "data": {
      "text/html": [
       "Tracking run with wandb version 0.15.0"
      ],
      "text/plain": [
       "<IPython.core.display.HTML object>"
      ]
     },
     "metadata": {},
     "output_type": "display_data"
    },
    {
     "data": {
      "text/html": [
       "Run data is saved locally in <code>/home/joowan/Desktop/face_pr/wandb/run-20230508_160439-04pm9yq1</code>"
      ],
      "text/plain": [
       "<IPython.core.display.HTML object>"
      ]
     },
     "metadata": {},
     "output_type": "display_data"
    },
    {
     "data": {
      "text/html": [
       "Syncing run <strong><a href='https://wandb.ai/kookmin_ai/multi%20tasks%20result/runs/04pm9yq1' target=\"_blank\">elated-violet-6</a></strong> to <a href='https://wandb.ai/kookmin_ai/multi%20tasks%20result' target=\"_blank\">Weights & Biases</a> (<a href='https://wandb.me/run' target=\"_blank\">docs</a>)<br/>"
      ],
      "text/plain": [
       "<IPython.core.display.HTML object>"
      ]
     },
     "metadata": {},
     "output_type": "display_data"
    },
    {
     "data": {
      "text/html": [
       " View project at <a href='https://wandb.ai/kookmin_ai/multi%20tasks%20result' target=\"_blank\">https://wandb.ai/kookmin_ai/multi%20tasks%20result</a>"
      ],
      "text/plain": [
       "<IPython.core.display.HTML object>"
      ]
     },
     "metadata": {},
     "output_type": "display_data"
    },
    {
     "data": {
      "text/html": [
       " View run at <a href='https://wandb.ai/kookmin_ai/multi%20tasks%20result/runs/04pm9yq1' target=\"_blank\">https://wandb.ai/kookmin_ai/multi%20tasks%20result/runs/04pm9yq1</a>"
      ],
      "text/plain": [
       "<IPython.core.display.HTML object>"
      ]
     },
     "metadata": {},
     "output_type": "display_data"
    }
   ],
   "source": [
    "wandb.init(project='multi tasks result',entity='kookmin_ai')\n",
    "wandb.run.name=(f'emotion_test')\n",
    "\n",
    "example_images=[]\n",
    "for i in unique_list:\n",
    "    with torch.no_grad():\n",
    "\n",
    "        emo_img=test_emo_dataset[i][0]\n",
    "        emo_answer=emo_label[test_emo_dataset[i][1]]\n",
    "        emo_img=emo_img.to(device)\n",
    "        emo_img=emo_img.unsqueeze(0)\n",
    "        \n",
    "        start=time.time()\n",
    "        outputs=MTL_model(emo_img)\n",
    "        emo_output=outputs[1]\n",
    "        infer_time=time.time()-start\n",
    "        \n",
    "        emo_pred=emo_output.argmax(1,keepdim=True)\n",
    "        emotion=emo_label[emo_pred.item()]\n",
    "    example_images.append(wandb.Image(\n",
    "                    emo_img, caption=f'Pred:{emotion},  Answer:{emo_answer}'))\n",
    "wandb.log({\"Image\": example_images})"
   ]
  },
  {
   "cell_type": "code",
   "execution_count": 9,
   "metadata": {},
   "outputs": [
    {
     "data": {
      "text/html": [
       "Finishing last run (ID:04pm9yq1) before initializing another..."
      ],
      "text/plain": [
       "<IPython.core.display.HTML object>"
      ]
     },
     "metadata": {},
     "output_type": "display_data"
    },
    {
     "data": {
      "text/html": [
       "Waiting for W&B process to finish... <strong style=\"color:green\">(success).</strong>"
      ],
      "text/plain": [
       "<IPython.core.display.HTML object>"
      ]
     },
     "metadata": {},
     "output_type": "display_data"
    },
    {
     "data": {
      "text/html": [
       " View run <strong style=\"color:#cdcd00\">elated-violet-6</strong> at: <a href='https://wandb.ai/kookmin_ai/multi%20tasks%20result/runs/04pm9yq1' target=\"_blank\">https://wandb.ai/kookmin_ai/multi%20tasks%20result/runs/04pm9yq1</a><br/>Synced 5 W&B file(s), 30 media file(s), 0 artifact file(s) and 0 other file(s)"
      ],
      "text/plain": [
       "<IPython.core.display.HTML object>"
      ]
     },
     "metadata": {},
     "output_type": "display_data"
    },
    {
     "data": {
      "text/html": [
       "Find logs at: <code>./wandb/run-20230508_160439-04pm9yq1/logs</code>"
      ],
      "text/plain": [
       "<IPython.core.display.HTML object>"
      ]
     },
     "metadata": {},
     "output_type": "display_data"
    },
    {
     "data": {
      "text/html": [
       "Successfully finished last run (ID:04pm9yq1). Initializing new run:<br/>"
      ],
      "text/plain": [
       "<IPython.core.display.HTML object>"
      ]
     },
     "metadata": {},
     "output_type": "display_data"
    },
    {
     "data": {
      "text/html": [
       "wandb version 0.15.2 is available!  To upgrade, please run:\n",
       " $ pip install wandb --upgrade"
      ],
      "text/plain": [
       "<IPython.core.display.HTML object>"
      ]
     },
     "metadata": {},
     "output_type": "display_data"
    },
    {
     "data": {
      "text/html": [
       "Tracking run with wandb version 0.15.0"
      ],
      "text/plain": [
       "<IPython.core.display.HTML object>"
      ]
     },
     "metadata": {},
     "output_type": "display_data"
    },
    {
     "data": {
      "text/html": [
       "Run data is saved locally in <code>/home/joowan/Desktop/face_pr/wandb/run-20230508_160448-yb17vw4v</code>"
      ],
      "text/plain": [
       "<IPython.core.display.HTML object>"
      ]
     },
     "metadata": {},
     "output_type": "display_data"
    },
    {
     "data": {
      "text/html": [
       "Syncing run <strong><a href='https://wandb.ai/kookmin_ai/multi%20tasks%20result/runs/yb17vw4v' target=\"_blank\">fine-water-7</a></strong> to <a href='https://wandb.ai/kookmin_ai/multi%20tasks%20result' target=\"_blank\">Weights & Biases</a> (<a href='https://wandb.me/run' target=\"_blank\">docs</a>)<br/>"
      ],
      "text/plain": [
       "<IPython.core.display.HTML object>"
      ]
     },
     "metadata": {},
     "output_type": "display_data"
    },
    {
     "data": {
      "text/html": [
       " View project at <a href='https://wandb.ai/kookmin_ai/multi%20tasks%20result' target=\"_blank\">https://wandb.ai/kookmin_ai/multi%20tasks%20result</a>"
      ],
      "text/plain": [
       "<IPython.core.display.HTML object>"
      ]
     },
     "metadata": {},
     "output_type": "display_data"
    },
    {
     "data": {
      "text/html": [
       " View run at <a href='https://wandb.ai/kookmin_ai/multi%20tasks%20result/runs/yb17vw4v' target=\"_blank\">https://wandb.ai/kookmin_ai/multi%20tasks%20result/runs/yb17vw4v</a>"
      ],
      "text/plain": [
       "<IPython.core.display.HTML object>"
      ]
     },
     "metadata": {},
     "output_type": "display_data"
    }
   ],
   "source": [
    "wandb.init(project='multi tasks result',entity='kookmin_ai')\n",
    "wandb.run.name=(f'age_test')\n",
    "\n",
    "example_images=[]\n",
    "for i in unique_list:\n",
    "    with torch.no_grad():\n",
    "\n",
    "        age_img=test_age_dataset[i][0]\n",
    "        age_answer=age_label[test_age_dataset[i][1]]\n",
    "        age_img=age_img.to(device)\n",
    "        age_img=age_img.unsqueeze(0)\n",
    "        \n",
    "        start=time.time()\n",
    "        outputs=MTL_model(age_img)\n",
    "        age_output=outputs[2]\n",
    "        infer_time=time.time()-start\n",
    "        \n",
    "        age_pred=age_output.argmax(1,keepdim=True)\n",
    "        age=age_label[age_pred.item()]\n",
    "    example_images.append(wandb.Image(\n",
    "                    age_img, caption=f'Pred:{age},  Answer:{age_answer}'))\n",
    "wandb.log({\"Image\": example_images})"
   ]
  },
  {
   "cell_type": "code",
   "execution_count": 10,
   "metadata": {},
   "outputs": [
    {
     "data": {
      "text/html": [
       "Finishing last run (ID:yb17vw4v) before initializing another..."
      ],
      "text/plain": [
       "<IPython.core.display.HTML object>"
      ]
     },
     "metadata": {},
     "output_type": "display_data"
    },
    {
     "data": {
      "text/html": [
       "Waiting for W&B process to finish... <strong style=\"color:green\">(success).</strong>"
      ],
      "text/plain": [
       "<IPython.core.display.HTML object>"
      ]
     },
     "metadata": {},
     "output_type": "display_data"
    },
    {
     "data": {
      "text/html": [
       " View run <strong style=\"color:#cdcd00\">fine-water-7</strong> at: <a href='https://wandb.ai/kookmin_ai/multi%20tasks%20result/runs/yb17vw4v' target=\"_blank\">https://wandb.ai/kookmin_ai/multi%20tasks%20result/runs/yb17vw4v</a><br/>Synced 5 W&B file(s), 30 media file(s), 0 artifact file(s) and 0 other file(s)"
      ],
      "text/plain": [
       "<IPython.core.display.HTML object>"
      ]
     },
     "metadata": {},
     "output_type": "display_data"
    },
    {
     "data": {
      "text/html": [
       "Find logs at: <code>./wandb/run-20230508_160448-yb17vw4v/logs</code>"
      ],
      "text/plain": [
       "<IPython.core.display.HTML object>"
      ]
     },
     "metadata": {},
     "output_type": "display_data"
    },
    {
     "data": {
      "text/html": [
       "Successfully finished last run (ID:yb17vw4v). Initializing new run:<br/>"
      ],
      "text/plain": [
       "<IPython.core.display.HTML object>"
      ]
     },
     "metadata": {},
     "output_type": "display_data"
    },
    {
     "data": {
      "text/html": [
       "wandb version 0.15.2 is available!  To upgrade, please run:\n",
       " $ pip install wandb --upgrade"
      ],
      "text/plain": [
       "<IPython.core.display.HTML object>"
      ]
     },
     "metadata": {},
     "output_type": "display_data"
    },
    {
     "data": {
      "text/html": [
       "Tracking run with wandb version 0.15.0"
      ],
      "text/plain": [
       "<IPython.core.display.HTML object>"
      ]
     },
     "metadata": {},
     "output_type": "display_data"
    },
    {
     "data": {
      "text/html": [
       "Run data is saved locally in <code>/home/joowan/Desktop/face_pr/wandb/run-20230508_160457-k5u46mxt</code>"
      ],
      "text/plain": [
       "<IPython.core.display.HTML object>"
      ]
     },
     "metadata": {},
     "output_type": "display_data"
    },
    {
     "data": {
      "text/html": [
       "Syncing run <strong><a href='https://wandb.ai/kookmin_ai/multi%20tasks%20result/runs/k5u46mxt' target=\"_blank\">chocolate-sun-8</a></strong> to <a href='https://wandb.ai/kookmin_ai/multi%20tasks%20result' target=\"_blank\">Weights & Biases</a> (<a href='https://wandb.me/run' target=\"_blank\">docs</a>)<br/>"
      ],
      "text/plain": [
       "<IPython.core.display.HTML object>"
      ]
     },
     "metadata": {},
     "output_type": "display_data"
    },
    {
     "data": {
      "text/html": [
       " View project at <a href='https://wandb.ai/kookmin_ai/multi%20tasks%20result' target=\"_blank\">https://wandb.ai/kookmin_ai/multi%20tasks%20result</a>"
      ],
      "text/plain": [
       "<IPython.core.display.HTML object>"
      ]
     },
     "metadata": {},
     "output_type": "display_data"
    },
    {
     "data": {
      "text/html": [
       " View run at <a href='https://wandb.ai/kookmin_ai/multi%20tasks%20result/runs/k5u46mxt' target=\"_blank\">https://wandb.ai/kookmin_ai/multi%20tasks%20result/runs/k5u46mxt</a>"
      ],
      "text/plain": [
       "<IPython.core.display.HTML object>"
      ]
     },
     "metadata": {},
     "output_type": "display_data"
    }
   ],
   "source": [
    "wandb.init(project='multi tasks result',entity='kookmin_ai')\n",
    "wandb.run.name=(f'gender_test')\n",
    "\n",
    "example_images=[]\n",
    "for i in unique_list:\n",
    "    with torch.no_grad():\n",
    "\n",
    "        gender_img=test_gender_dataset[i][0]\n",
    "        gender_answer=gender_label[test_gender_dataset[i][1]]\n",
    "        gender_img=gender_img.to(device)\n",
    "        gender_img=gender_img.unsqueeze(0)\n",
    "        \n",
    "        start=time.time()\n",
    "        outputs=MTL_model(gender_img)\n",
    "        gender_output=outputs[0]\n",
    "        infer_time=time.time()-start\n",
    "        \n",
    "        gender_pred=gender_output.argmax(1,keepdim=True)\n",
    "        gender=gender_label[gender_pred.item()]\n",
    "    example_images.append(wandb.Image(\n",
    "                    gender_img, caption=f'Pred:{gender},  Answer:{gender_answer}'))\n",
    "wandb.log({\"Image\": example_images})"
   ]
  },
  {
   "cell_type": "code",
   "execution_count": null,
   "metadata": {},
   "outputs": [],
   "source": []
  },
  {
   "cell_type": "code",
   "execution_count": null,
   "metadata": {},
   "outputs": [],
   "source": []
  }
 ],
 "metadata": {
  "kernelspec": {
   "display_name": "face",
   "language": "python",
   "name": "python3"
  },
  "language_info": {
   "codemirror_mode": {
    "name": "ipython",
    "version": 3
   },
   "file_extension": ".py",
   "mimetype": "text/x-python",
   "name": "python",
   "nbconvert_exporter": "python",
   "pygments_lexer": "ipython3",
   "version": "3.8.16"
  },
  "orig_nbformat": 4
 },
 "nbformat": 4,
 "nbformat_minor": 2
}
