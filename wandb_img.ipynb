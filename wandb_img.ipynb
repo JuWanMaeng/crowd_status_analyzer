{
 "cells": [
  {
   "cell_type": "code",
   "execution_count": 2,
   "metadata": {},
   "outputs": [],
   "source": [
    "%load_ext autoreload\n",
    "%autoreload 2"
   ]
  },
  {
   "cell_type": "code",
   "execution_count": 18,
   "metadata": {},
   "outputs": [],
   "source": [
    "import cv2\n",
    "import wandb\n",
    "import numpy as np\n",
    "import time\n",
    "import torch\n",
    "from MTL.model import resnet,MTL_model\n",
    "import glob\n",
    "from torchvision.models import  resnet18\n",
    "import torch.nn as nn"
   ]
  },
  {
   "attachments": {},
   "cell_type": "markdown",
   "metadata": {},
   "source": [
    "## single task (emotion,gender)"
   ]
  },
  {
   "cell_type": "code",
   "execution_count": 21,
   "metadata": {},
   "outputs": [
    {
     "data": {
      "text/html": [
       "Finishing last run (ID:mx1q4cwg) before initializing another..."
      ],
      "text/plain": [
       "<IPython.core.display.HTML object>"
      ]
     },
     "metadata": {},
     "output_type": "display_data"
    },
    {
     "data": {
      "text/html": [
       "Waiting for W&B process to finish... <strong style=\"color:green\">(success).</strong>"
      ],
      "text/plain": [
       "<IPython.core.display.HTML object>"
      ]
     },
     "metadata": {},
     "output_type": "display_data"
    },
    {
     "data": {
      "text/html": [
       " View run <strong style=\"color:#cdcd00\">glamorous-waterfall-8</strong> at: <a href='https://wandb.ai/kookmin_ai/emotion%2Bgender/runs/mx1q4cwg' target=\"_blank\">https://wandb.ai/kookmin_ai/emotion%2Bgender/runs/mx1q4cwg</a><br/>Synced 5 W&B file(s), 11 media file(s), 0 artifact file(s) and 0 other file(s)"
      ],
      "text/plain": [
       "<IPython.core.display.HTML object>"
      ]
     },
     "metadata": {},
     "output_type": "display_data"
    },
    {
     "data": {
      "text/html": [
       "Find logs at: <code>./wandb/run-20230503_134040-mx1q4cwg/logs</code>"
      ],
      "text/plain": [
       "<IPython.core.display.HTML object>"
      ]
     },
     "metadata": {},
     "output_type": "display_data"
    },
    {
     "data": {
      "text/html": [
       "Successfully finished last run (ID:mx1q4cwg). Initializing new run:<br/>"
      ],
      "text/plain": [
       "<IPython.core.display.HTML object>"
      ]
     },
     "metadata": {},
     "output_type": "display_data"
    },
    {
     "data": {
      "text/html": [
       "wandb version 0.15.1 is available!  To upgrade, please run:\n",
       " $ pip install wandb --upgrade"
      ],
      "text/plain": [
       "<IPython.core.display.HTML object>"
      ]
     },
     "metadata": {},
     "output_type": "display_data"
    },
    {
     "data": {
      "text/html": [
       "Tracking run with wandb version 0.15.0"
      ],
      "text/plain": [
       "<IPython.core.display.HTML object>"
      ]
     },
     "metadata": {},
     "output_type": "display_data"
    },
    {
     "data": {
      "text/html": [
       "Run data is saved locally in <code>/home/joowan/Desktop/face_pr/wandb/run-20230503_134152-mepma7lf</code>"
      ],
      "text/plain": [
       "<IPython.core.display.HTML object>"
      ]
     },
     "metadata": {},
     "output_type": "display_data"
    },
    {
     "data": {
      "text/html": [
       "Syncing run <strong><a href='https://wandb.ai/kookmin_ai/emotion%2Bgender/runs/mepma7lf' target=\"_blank\">charmed-shadow-9</a></strong> to <a href='https://wandb.ai/kookmin_ai/emotion%2Bgender' target=\"_blank\">Weights & Biases</a> (<a href='https://wandb.me/run' target=\"_blank\">docs</a>)<br/>"
      ],
      "text/plain": [
       "<IPython.core.display.HTML object>"
      ]
     },
     "metadata": {},
     "output_type": "display_data"
    },
    {
     "data": {
      "text/html": [
       " View project at <a href='https://wandb.ai/kookmin_ai/emotion%2Bgender' target=\"_blank\">https://wandb.ai/kookmin_ai/emotion%2Bgender</a>"
      ],
      "text/plain": [
       "<IPython.core.display.HTML object>"
      ]
     },
     "metadata": {},
     "output_type": "display_data"
    },
    {
     "data": {
      "text/html": [
       " View run at <a href='https://wandb.ai/kookmin_ai/emotion%2Bgender/runs/mepma7lf' target=\"_blank\">https://wandb.ai/kookmin_ai/emotion%2Bgender/runs/mepma7lf</a>"
      ],
      "text/plain": [
       "<IPython.core.display.HTML object>"
      ]
     },
     "metadata": {},
     "output_type": "display_data"
    }
   ],
   "source": [
    "gender_model=resnet18()\n",
    "gender_model.fc=nn.Linear(512,2)\n",
    "gender_wt=torch.load('weight/classification/UTK_gender_best_model.pt')\n",
    "emotion_model=resnet.EmotionModel(phase='test')\n",
    "emotion_wt=torch.load('weight/classification/Exp128_resnet18_relu.pt')\n",
    "device='cuda:3' if torch.cuda.is_available() else 'cpu'\n",
    "#device='cpu'\n",
    "gender_model.to(device)\n",
    "emotion_model.to(device)\n",
    "\n",
    "wandb.init(project='emotion+gender',entity='kookmin_ai')\n",
    "wandb.run.name=(f'single_task_gpu_test')\n",
    "example_images=[]\n",
    "emo_label={0:'sad', 1:'happy', 2:'angry', 3:'disgust', 4:'surprise', 5:'fear', 6:'neutral'}\n",
    "gender_label={0:'man',1:'woman'}\n",
    "age_label={0:'youth', 1: 'student', 2: 'adult', 3:'elder'}\n",
    "\n",
    "emotion_model.load_state_dict(emotion_wt)\n",
    "gender_model.load_state_dict(gender_wt)\n",
    "emotion_model.eval()\n",
    "gender_model.eval()\n",
    "test_imgs=glob.glob('testimgs/*.png')\n",
    "for image in test_imgs:\n",
    "    with torch.no_grad():\n",
    "\n",
    "        img=cv2.imread(image)\n",
    "        img=cv2.cvtColor(img,cv2.COLOR_BGR2RGB)\n",
    "        \n",
    "        img=cv2.resize(img,(128,128))\n",
    "        img=np.transpose(img,(2,0,1))\n",
    "        img=torch.FloatTensor(img).to(device)\n",
    "        img=torch.unsqueeze(img,0)/255.0\n",
    "        \n",
    "        start=time.time()\n",
    "        emo_output=emotion_model(img)\n",
    "        gender_output=gender_model(img)\n",
    "        infer_time=time.time()-start\n",
    "        \n",
    "        emo_pred=emo_output.argmax(1,keepdim=True)\n",
    "        gender_pred=gender_output.argmax(1,keepdim=True)\n",
    "        emotion=emo_label[emo_pred.item()]\n",
    "        gender=gender_label[gender_pred.item()]\n",
    "    example_images.append(wandb.Image(\n",
    "                    img, caption=f'Pred:{emotion} {gender}, inference_time:{infer_time:.4f}'))\n",
    "wandb.log({\"Image\": example_images})"
   ]
  },
  {
   "attachments": {},
   "cell_type": "markdown",
   "metadata": {},
   "source": [
    "## multi task (emotion + gender)"
   ]
  },
  {
   "cell_type": "code",
   "execution_count": 22,
   "metadata": {},
   "outputs": [
    {
     "name": "stdout",
     "output_type": "stream",
     "text": [
      "not pretrained model loaded\n"
     ]
    },
    {
     "data": {
      "text/html": [
       "Finishing last run (ID:mepma7lf) before initializing another..."
      ],
      "text/plain": [
       "<IPython.core.display.HTML object>"
      ]
     },
     "metadata": {},
     "output_type": "display_data"
    },
    {
     "data": {
      "text/html": [
       "Waiting for W&B process to finish... <strong style=\"color:green\">(success).</strong>"
      ],
      "text/plain": [
       "<IPython.core.display.HTML object>"
      ]
     },
     "metadata": {},
     "output_type": "display_data"
    },
    {
     "data": {
      "text/html": [
       " View run <strong style=\"color:#cdcd00\">charmed-shadow-9</strong> at: <a href='https://wandb.ai/kookmin_ai/emotion%2Bgender/runs/mepma7lf' target=\"_blank\">https://wandb.ai/kookmin_ai/emotion%2Bgender/runs/mepma7lf</a><br/>Synced 6 W&B file(s), 11 media file(s), 0 artifact file(s) and 0 other file(s)"
      ],
      "text/plain": [
       "<IPython.core.display.HTML object>"
      ]
     },
     "metadata": {},
     "output_type": "display_data"
    },
    {
     "data": {
      "text/html": [
       "Find logs at: <code>./wandb/run-20230503_134152-mepma7lf/logs</code>"
      ],
      "text/plain": [
       "<IPython.core.display.HTML object>"
      ]
     },
     "metadata": {},
     "output_type": "display_data"
    },
    {
     "data": {
      "text/html": [
       "Successfully finished last run (ID:mepma7lf). Initializing new run:<br/>"
      ],
      "text/plain": [
       "<IPython.core.display.HTML object>"
      ]
     },
     "metadata": {},
     "output_type": "display_data"
    },
    {
     "data": {
      "text/html": [
       "wandb version 0.15.1 is available!  To upgrade, please run:\n",
       " $ pip install wandb --upgrade"
      ],
      "text/plain": [
       "<IPython.core.display.HTML object>"
      ]
     },
     "metadata": {},
     "output_type": "display_data"
    },
    {
     "data": {
      "text/html": [
       "Tracking run with wandb version 0.15.0"
      ],
      "text/plain": [
       "<IPython.core.display.HTML object>"
      ]
     },
     "metadata": {},
     "output_type": "display_data"
    },
    {
     "data": {
      "text/html": [
       "Run data is saved locally in <code>/home/joowan/Desktop/face_pr/wandb/run-20230503_134200-4fgtoxr6</code>"
      ],
      "text/plain": [
       "<IPython.core.display.HTML object>"
      ]
     },
     "metadata": {},
     "output_type": "display_data"
    },
    {
     "data": {
      "text/html": [
       "Syncing run <strong><a href='https://wandb.ai/kookmin_ai/emotion%2Bgender/runs/4fgtoxr6' target=\"_blank\">bumbling-cosmos-10</a></strong> to <a href='https://wandb.ai/kookmin_ai/emotion%2Bgender' target=\"_blank\">Weights & Biases</a> (<a href='https://wandb.me/run' target=\"_blank\">docs</a>)<br/>"
      ],
      "text/plain": [
       "<IPython.core.display.HTML object>"
      ]
     },
     "metadata": {},
     "output_type": "display_data"
    },
    {
     "data": {
      "text/html": [
       " View project at <a href='https://wandb.ai/kookmin_ai/emotion%2Bgender' target=\"_blank\">https://wandb.ai/kookmin_ai/emotion%2Bgender</a>"
      ],
      "text/plain": [
       "<IPython.core.display.HTML object>"
      ]
     },
     "metadata": {},
     "output_type": "display_data"
    },
    {
     "data": {
      "text/html": [
       " View run at <a href='https://wandb.ai/kookmin_ai/emotion%2Bgender/runs/4fgtoxr6' target=\"_blank\">https://wandb.ai/kookmin_ai/emotion%2Bgender/runs/4fgtoxr6</a>"
      ],
      "text/plain": [
       "<IPython.core.display.HTML object>"
      ]
     },
     "metadata": {},
     "output_type": "display_data"
    }
   ],
   "source": [
    "model=MTL_model.MultiTaskModel(phase='test')\n",
    "wt=torch.load('weight/MTL/resnet18_only_FC_best.pt')\n",
    "device='cuda:3' if torch.cuda.is_available() else 'cpu'\n",
    "# device='cpu'\n",
    "model.to(device)\n",
    "\n",
    "wandb.init(project='emotion+gender',entity='kookmin_ai')\n",
    "wandb.run.name=(f'multi_task_gpu_test')\n",
    "example_images=[]\n",
    "emo_label={0:'sad', 1:'happy', 2:'angry', 3:'disgust', 4:'surprise', 5:'fear', 6:'neutral'}\n",
    "gender_label={0:'man',1:'woman'}\n",
    "age_label={0:'youth', 1: 'student', 2: 'adult', 3:'elder'}\n",
    "\n",
    "model.load_state_dict(wt)\n",
    "model.eval()\n",
    "test_imgs=glob.glob('testimgs/*.png')\n",
    "for image in test_imgs:\n",
    "    with torch.no_grad():\n",
    "\n",
    "        img=cv2.imread(image)\n",
    "        img=cv2.cvtColor(img,cv2.COLOR_BGR2RGB)\n",
    "        \n",
    "        img=cv2.resize(img,(128,128))\n",
    "        img=np.transpose(img,(2,0,1))\n",
    "        img=torch.FloatTensor(img).to(device)\n",
    "        img=torch.unsqueeze(img,0)/255.0\n",
    "        \n",
    "        start=time.time()\n",
    "        gender_output,emo_output=model(img)\n",
    "        infer_time=time.time()-start\n",
    "        \n",
    "        emo_pred=emo_output.argmax(1,keepdim=True)\n",
    "        gender_pred=gender_output.argmax(1,keepdim=True)\n",
    "        emotion=emo_label[emo_pred.item()]\n",
    "        gender=gender_label[gender_pred.item()]\n",
    "    example_images.append(wandb.Image(\n",
    "                    img, caption=f'Pred:{emotion} {gender}, inference_time:{infer_time:.4f}'))\n",
    "wandb.log({\"Image\": example_images})"
   ]
  },
  {
   "cell_type": "code",
   "execution_count": null,
   "metadata": {},
   "outputs": [],
   "source": []
  }
 ],
 "metadata": {
  "kernelspec": {
   "display_name": "face",
   "language": "python",
   "name": "python3"
  },
  "language_info": {
   "codemirror_mode": {
    "name": "ipython",
    "version": 3
   },
   "file_extension": ".py",
   "mimetype": "text/x-python",
   "name": "python",
   "nbconvert_exporter": "python",
   "pygments_lexer": "ipython3",
   "version": "3.8.16"
  },
  "orig_nbformat": 4
 },
 "nbformat": 4,
 "nbformat_minor": 2
}
