{
 "cells": [
  {
   "cell_type": "code",
   "execution_count": 2,
   "metadata": {},
   "outputs": [],
   "source": [
    "import cv2\n",
    "import numpy as np\n",
    "import os\n",
    "import matplotlib.pyplot as plt\n",
    "from PIL import Image as Im\n",
    "import glob\n",
    "import json\n",
    "from collections import defaultdict,OrderedDict\n",
    "import random"
   ]
  },
  {
   "cell_type": "code",
   "execution_count": 6,
   "metadata": {},
   "outputs": [
    {
     "name": "stdout",
     "output_type": "stream",
     "text": [
      "23708\n"
     ]
    }
   ],
   "source": [
    "imgs=glob.glob('data/UTKFace/imgs/*.jpg')\n",
    "label=['man','woman']\n",
    "print(len(imgs))"
   ]
  },
  {
   "cell_type": "code",
   "execution_count": 7,
   "metadata": {},
   "outputs": [
    {
     "name": "stdout",
     "output_type": "stream",
     "text": [
      "['data/UTKFace/imgs/37', '1', '0', '20170104165756313.jpg.chip.jpg']\n"
     ]
    }
   ],
   "source": [
    "temp=imgs[0]\n",
    "a=temp.split('_')\n",
    "print(a)"
   ]
  },
  {
   "cell_type": "code",
   "execution_count": 8,
   "metadata": {},
   "outputs": [
    {
     "name": "stdout",
     "output_type": "stream",
     "text": [
      "3097.75 2829.25\n",
      "[12391, 11317]\n"
     ]
    }
   ],
   "source": [
    "man=[]\n",
    "woman=[]\n",
    "ratio=[]\n",
    "\n",
    "for img in imgs:\n",
    "    if img.split('_')[1]=='0':\n",
    "        d={'img':img,\n",
    "           'label':0}\n",
    "        man.append(d)\n",
    "    else:\n",
    "        d={'img':img,\n",
    "           'label':1}\n",
    "        woman.append(d)\n",
    "ratio.append(len(man))\n",
    "ratio.append(len(woman))\n",
    "print(len(man)*0.25,len(woman)*0.25)\n",
    "print(ratio)"
   ]
  },
  {
   "cell_type": "code",
   "execution_count": null,
   "metadata": {},
   "outputs": [],
   "source": [
    "fig1,ax1=plt.subplots()\n",
    "ax1.pie(ratio,labels=label,autopct='%1.1f%%',startangle=90)\n",
    "ax1.axis('equal')\n",
    "plt.show()"
   ]
  },
  {
   "cell_type": "code",
   "execution_count": 5,
   "metadata": {},
   "outputs": [
    {
     "name": "stdout",
     "output_type": "stream",
     "text": [
      "17792 5926\n"
     ]
    }
   ],
   "source": [
    "train_man=man[3087:]\n",
    "val_man=man[:3097]\n",
    "\n",
    "train_woman=woman[2829:]\n",
    "val_woman=woman[:2829]\n",
    "\n",
    "train=train_man+train_woman\n",
    "val=val_woman+val_man\n",
    "\n",
    "# train=train*4\n",
    "# val=val*4\n",
    "\n",
    "random.shuffle(train)\n",
    "random.shuffle(val)\n",
    "\n",
    "print(len(train),len(val))"
   ]
  },
  {
   "cell_type": "code",
   "execution_count": 6,
   "metadata": {},
   "outputs": [],
   "source": [
    "class NpEncoder(json.JSONEncoder):\n",
    "    def default(self, obj):\n",
    "        if isinstance(obj, np.integer):\n",
    "            return int(obj)\n",
    "        elif isinstance(obj, np.floating):\n",
    "            return float(obj)\n",
    "        elif isinstance(obj, np.ndarray):\n",
    "            return obj.tolist()\n",
    "        else:\n",
    "            return super(NpEncoder, self).default(obj)"
   ]
  },
  {
   "cell_type": "code",
   "execution_count": 7,
   "metadata": {},
   "outputs": [],
   "source": [
    "f=open('data/UTKFace/single_train.json','w')\n",
    "json.dump(train,f,indent='\\t',cls=NpEncoder)\n",
    "f.close()\n",
    "\n",
    "f=open('data/UTKFace/single_val.json','w')\n",
    "json.dump(val,f,indent='\\t',cls=NpEncoder)\n",
    "f.close()\n",
    "\n"
   ]
  },
  {
   "cell_type": "code",
   "execution_count": null,
   "metadata": {},
   "outputs": [],
   "source": []
  }
 ],
 "metadata": {
  "kernelspec": {
   "display_name": "torch",
   "language": "python",
   "name": "python3"
  },
  "language_info": {
   "codemirror_mode": {
    "name": "ipython",
    "version": 3
   },
   "file_extension": ".py",
   "mimetype": "text/x-python",
   "name": "python",
   "nbconvert_exporter": "python",
   "pygments_lexer": "ipython3",
   "version": "3.10.9"
  },
  "orig_nbformat": 4,
  "vscode": {
   "interpreter": {
    "hash": "85f033663c172d71d7174891850fe3e738ba1b80775cafd177781aa83ac1cbb1"
   }
  }
 },
 "nbformat": 4,
 "nbformat_minor": 2
}
