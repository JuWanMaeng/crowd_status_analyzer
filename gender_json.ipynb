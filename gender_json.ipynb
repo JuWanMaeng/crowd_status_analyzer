{
 "cells": [
  {
   "cell_type": "code",
   "execution_count": 2,
   "metadata": {},
   "outputs": [],
   "source": [
    "import cv2\n",
    "import numpy as np\n",
    "import os\n",
    "import matplotlib.pyplot as plt\n",
    "from PIL import Image as Im\n",
    "import glob\n",
    "import json\n",
    "from collections import defaultdict,OrderedDict\n",
    "import random"
   ]
  },
  {
   "cell_type": "code",
   "execution_count": 6,
   "metadata": {},
   "outputs": [
    {
     "name": "stdout",
     "output_type": "stream",
     "text": [
      "23708\n"
     ]
    }
   ],
   "source": [
    "imgs=glob.glob('data/UTKFace/imgs/*.jpg')\n",
    "label=['man','woman']\n",
    "print(len(imgs))"
   ]
  },
  {
   "cell_type": "code",
   "execution_count": 7,
   "metadata": {},
   "outputs": [
    {
     "name": "stdout",
     "output_type": "stream",
     "text": [
      "['data/UTKFace/imgs/37', '1', '0', '20170104165756313.jpg.chip.jpg']\n"
     ]
    }
   ],
   "source": [
    "temp=imgs[0]\n",
    "a=temp.split('_')\n",
    "print(a)"
   ]
  },
  {
   "cell_type": "code",
   "execution_count": 8,
   "metadata": {},
   "outputs": [
    {
     "name": "stdout",
     "output_type": "stream",
     "text": [
      "3097.75 2829.25\n",
      "[12391, 11317]\n"
     ]
    }
   ],
   "source": [
    "man=[]\n",
    "woman=[]\n",
    "ratio=[]\n",
    "\n",
    "for img in imgs:\n",
    "    if img.split('_')[1]=='0':\n",
    "        d={'img':img,\n",
    "           'label':0}\n",
    "        man.append(d)\n",
    "    else:\n",
    "        d={'img':img,\n",
    "           'label':1}\n",
    "        woman.append(d)\n",
    "ratio.append(len(man))\n",
    "ratio.append(len(woman))\n",
    "print(len(man)*0.25,len(woman)*0.25)\n",
    "print(ratio)"
   ]
  },
  {
   "cell_type": "code",
<<<<<<< HEAD
   "execution_count": 11,
   "metadata": {},
   "outputs": [
    {
     "data": {
      "image/png": "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",
      "text/plain": [
       "<Figure size 640x480 with 1 Axes>"
      ]
     },
     "metadata": {},
     "output_type": "display_data"
    }
   ],
=======
   "execution_count": null,
   "metadata": {},
   "outputs": [],
>>>>>>> 5d9780c44ac3292aca8d314a069eca8d407c3095
   "source": [
    "fig1,ax1=plt.subplots()\n",
    "ax1.pie(ratio,labels=label,autopct='%1.1f%%',startangle=90)\n",
    "ax1.axis('equal')\n",
    "plt.show()"
   ]
  },
  {
   "cell_type": "code",
   "execution_count": 5,
   "metadata": {},
   "outputs": [
    {
     "name": "stdout",
     "output_type": "stream",
     "text": [
      "17792 5926\n"
     ]
    }
   ],
   "source": [
    "train_man=man[3087:]\n",
    "val_man=man[:3097]\n",
    "\n",
    "train_woman=woman[2829:]\n",
    "val_woman=woman[:2829]\n",
    "\n",
    "train=train_man+train_woman\n",
    "val=val_woman+val_man\n",
    "\n",
    "# train=train*4\n",
    "# val=val*4\n",
    "\n",
    "random.shuffle(train)\n",
    "random.shuffle(val)\n",
    "\n",
    "print(len(train),len(val))"
   ]
  },
  {
   "cell_type": "code",
   "execution_count": 6,
   "metadata": {},
   "outputs": [],
   "source": [
    "class NpEncoder(json.JSONEncoder):\n",
    "    def default(self, obj):\n",
    "        if isinstance(obj, np.integer):\n",
    "            return int(obj)\n",
    "        elif isinstance(obj, np.floating):\n",
    "            return float(obj)\n",
    "        elif isinstance(obj, np.ndarray):\n",
    "            return obj.tolist()\n",
    "        else:\n",
    "            return super(NpEncoder, self).default(obj)"
   ]
  },
  {
   "cell_type": "code",
   "execution_count": 7,
   "metadata": {},
   "outputs": [],
   "source": [
    "f=open('data/UTKFace/single_train.json','w')\n",
    "json.dump(train,f,indent='\\t',cls=NpEncoder)\n",
    "f.close()\n",
    "\n",
    "f=open('data/UTKFace/single_val.json','w')\n",
    "json.dump(val,f,indent='\\t',cls=NpEncoder)\n",
    "f.close()\n",
    "\n"
   ]
  },
  {
   "cell_type": "code",
   "execution_count": null,
   "metadata": {},
   "outputs": [],
   "source": []
  }
 ],
 "metadata": {
  "kernelspec": {
   "display_name": "torch",
   "language": "python",
   "name": "python3"
  },
  "language_info": {
   "codemirror_mode": {
    "name": "ipython",
    "version": 3
   },
   "file_extension": ".py",
   "mimetype": "text/x-python",
   "name": "python",
   "nbconvert_exporter": "python",
   "pygments_lexer": "ipython3",
   "version": "3.8.16"
  },
  "orig_nbformat": 4,
  "vscode": {
   "interpreter": {
    "hash": "85f033663c172d71d7174891850fe3e738ba1b80775cafd177781aa83ac1cbb1"
   }
  }
 },
 "nbformat": 4,
 "nbformat_minor": 2
}
