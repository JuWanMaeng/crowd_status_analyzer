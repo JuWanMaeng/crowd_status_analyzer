{
 "cells": [
  {
   "attachments": {},
   "cell_type": "markdown",
   "metadata": {},
   "source": [
    "### image data를 json으로 만들어주는 코드"
   ]
  },
  {
   "cell_type": "code",
   "execution_count": 1,
   "metadata": {},
   "outputs": [],
   "source": [
    "import cv2\n",
    "import numpy as np\n",
    "import os\n",
    "import matplotlib.pyplot as plt\n",
    "from PIL import Image as Im\n",
    "import glob\n",
    "import json"
   ]
  },
  {
   "cell_type": "code",
   "execution_count": 2,
   "metadata": {},
   "outputs": [
    {
     "ename": "FileNotFoundError",
     "evalue": "[Errno 2] No such file or directory: 'data/Expw-F'",
     "output_type": "error",
     "traceback": [
      "\u001b[0;31m---------------------------------------------------------------------------\u001b[0m",
      "\u001b[0;31mFileNotFoundError\u001b[0m                         Traceback (most recent call last)",
      "Cell \u001b[0;32mIn[2], line 1\u001b[0m\n\u001b[0;32m----> 1\u001b[0m \u001b[39mprint\u001b[39m(os\u001b[39m.\u001b[39;49mlistdir(\u001b[39m'\u001b[39;49m\u001b[39mdata/Expw-F\u001b[39;49m\u001b[39m'\u001b[39;49m))\n",
      "\u001b[0;31mFileNotFoundError\u001b[0m: [Errno 2] No such file or directory: 'data/Expw-F'"
     ]
    }
   ],
   "source": [
    "print(os.listdir('data/Expw-F'))"
   ]
  },
  {
   "cell_type": "code",
   "execution_count": 5,
   "metadata": {},
   "outputs": [],
   "source": [
    "emo=['sad', 'happy', 'angry', 'disgust', 'surprise', 'fear', 'neutral']\n",
    "sad_imgs,happy_imgs,angry_imgs,disgust_imgs,surprise_imgs,fear_imgs,neutral_imgs=[],[],[],[],[],[],[]\n",
    "imgs=[sad_imgs,happy_imgs,angry_imgs,disgust_imgs,surprise_imgs,fear_imgs,neutral_imgs]"
   ]
  },
  {
   "cell_type": "code",
   "execution_count": 6,
   "metadata": {},
   "outputs": [
    {
     "data": {
      "text/plain": [
       "[[], [], [], [], [], [], []]"
      ]
     },
     "execution_count": 6,
     "metadata": {},
     "output_type": "execute_result"
    }
   ],
   "source": [
    "imgs"
   ]
  },
  {
   "cell_type": "code",
   "execution_count": 7,
   "metadata": {},
   "outputs": [
    {
     "name": "stdout",
     "output_type": "stream",
     "text": [
      "91793\n"
     ]
    }
   ],
   "source": [
    "add=0\n",
    "for i in range(7):\n",
    "    jpg_files=glob.glob(f'data/Expw-F/{emo[i]}/*.jpg')\n",
    "    add+=len(jpg_files)\n",
    "print(add)"
   ]
  },
  {
   "attachments": {},
   "cell_type": "markdown",
   "metadata": {},
   "source": [
    "### class별 data수가 다르기때문에 validation dataset도 이 비율에 맞게 맞춰주기 위한 과정 \n",
    "### train dataset의 class 비율과 validation dataset의 class 비율은 서로 같다"
   ]
  },
  {
   "cell_type": "code",
   "execution_count": 9,
   "metadata": {},
   "outputs": [
    {
     "name": "stdout",
     "output_type": "stream",
     "text": [
      "sad:10559 ratio:11.50%\n",
      "happy:30537 ratio:33.27%\n",
      "angry:3671 ratio:4.00%\n",
      "disgust:3995 ratio:4.35%\n",
      "surprise:7060 ratio:7.69%\n",
      "fear:1088 ratio:1.19%\n",
      "neutral:34883 ratio:38.00%\n",
      "[2111, 6107, 734, 799, 1412, 217, 6976]\n",
      "[1055, 3053, 367, 399, 706, 108, 3488]\n"
     ]
    }
   ],
   "source": [
    "val_imgs_len=[]\n",
    "test_imgs_len=[]\n",
    "ra=[]\n",
    "for i in range(7):\n",
    "    jpg_files=glob.glob(f'data/Expw-F/{emo[i]}/*.jpg')\n",
    "    imgs[i]=jpg_files\n",
    "    img_len=len(imgs[i])\n",
    "    ratio=img_len/add * 100\n",
    "    ra.append(ratio)\n",
    "    print(f'{emo[i]}:{img_len} ratio:{ratio:.2f}%') \n",
    "    val_imgs_len.append(int(img_len*0.2))\n",
    "print(val_imgs_len)\n",
    "for num in val_imgs_len:\n",
    "    le=int(num/2)\n",
    "    test_imgs_len.append(le)\n",
    "\n",
    "print(test_imgs_len)\n",
    "    \n",
    "    "
   ]
  },
  {
   "cell_type": "code",
   "execution_count": 12,
   "metadata": {},
   "outputs": [
    {
     "name": "stdout",
     "output_type": "stream",
     "text": [
      "sad: train:8448, val:1056 test:1055\n",
      "happy: train:24430, val:3054 test:3053\n",
      "angry: train:2937, val:367 test:367\n",
      "disgust: train:3196, val:400 test:399\n",
      "surprise: train:5648, val:706 test:706\n",
      "fear: train:871, val:109 test:108\n",
      "neutral: train:27907, val:3488 test:3488\n"
     ]
    }
   ],
   "source": [
    "train_imgs=[]\n",
    "val_imgs=[]\n",
    "test_imgs=[]\n",
    "for i in range(7):\n",
    "    train=imgs[i][val_imgs_len[i]:]\n",
    "    val=imgs[i][test_imgs_len[i]:val_imgs_len[i]]\n",
    "    test=imgs[i][:test_imgs_len[i]]\n",
    "    \n",
    "    train_imgs.append(train)\n",
    "    val_imgs.append(val)\n",
    "    test_imgs.append(test)\n",
    "    print(f'{emo[i]}: train:{len(train)}, val:{len(val)} test:{len(test)}')\n",
    "    "
   ]
  },
  {
   "cell_type": "code",
   "execution_count": 13,
   "metadata": {},
   "outputs": [],
   "source": [
    "class NpEncoder(json.JSONEncoder):\n",
    "    def default(self, obj):\n",
    "        if isinstance(obj, np.integer):\n",
    "            return int(obj)\n",
    "        elif isinstance(obj, np.floating):\n",
    "            return float(obj)\n",
    "        elif isinstance(obj, np.ndarray):\n",
    "            return obj.tolist()\n",
    "        else:\n",
    "            return super(NpEncoder, self).default(obj)"
   ]
  },
  {
   "cell_type": "code",
   "execution_count": 14,
   "metadata": {},
   "outputs": [],
   "source": [
    "f=open('data/Expw-F/train.json','w')\n",
    "l=[]\n",
    "for i in range(len(train_imgs)):\n",
    "    for img in train_imgs[i]:\n",
    "        d={'img':img,\n",
    "           'label':emo[i]}\n",
    "        l.append(d)\n",
    "\n",
    "json.dump(l,f,indent='\\t',cls=NpEncoder)\n",
    "f.close()\n",
    "\n",
    "f=open('data/Expw-F/val.json','w')\n",
    "l=[]\n",
    "for i in range(len(val_imgs)):\n",
    "    for img in val_imgs[i]:\n",
    "        d={'img':img,\n",
    "           'label':emo[i]}\n",
    "        l.append(d)\n",
    "\n",
    "json.dump(l,f,indent='\\t',cls=NpEncoder)\n",
    "f.close()\n",
    "\n",
    "f=open('data/Expw-F/test.json','w')\n",
    "l=[]\n",
    "for i in range(len(test_imgs)):\n",
    "    for img in test_imgs[i]:\n",
    "        d={'img':img,\n",
    "           'label':emo[i]}\n",
    "        l.append(d)\n",
    "\n",
    "json.dump(l,f,indent='\\t',cls=NpEncoder)\n",
    "f.close()"
   ]
  },
  {
   "cell_type": "code",
   "execution_count": 15,
   "metadata": {},
   "outputs": [
    {
     "data": {
      "image/png": "[encoded data removed]",
      "text/plain": [
       "<Figure size 640x480 with 1 Axes>"
      ]
     },
     "metadata": {},
     "output_type": "display_data"
    }
   ],
   "source": [
    "import cv2\n",
    "import matplotlib.pyplot as plt\n",
    "img=cv2.imread('data/Expw-F/angry/1angry_actor_104.jpg',cv2.IMREAD_GRAYSCALE)\n",
    "img=cv2.cvtColor(img,cv2.COLOR_GRAY2RGB)\n",
    "plt.imshow(img)\n",
    "plt.show()"
   ]
  },
  {
   "cell_type": "code",
   "execution_count": null,
   "metadata": {},
   "outputs": [],
   "source": []
  }
 ],
 "metadata": {
  "kernelspec": {
   "display_name": "torch",
   "language": "python",
   "name": "python3"
  },
  "language_info": {
   "codemirror_mode": {
    "name": "ipython",
    "version": 3
   },
   "file_extension": ".py",
   "mimetype": "text/x-python",
   "name": "python",
   "nbconvert_exporter": "python",
   "pygments_lexer": "ipython3",
   "version": "3.8.16"
  },
  "orig_nbformat": 4,
  "vscode": {
   "interpreter": {
    "hash": "85f033663c172d71d7174891850fe3e738ba1b80775cafd177781aa83ac1cbb1"
   }
  }
 },
 "nbformat": 4,
 "nbformat_minor": 2
}
